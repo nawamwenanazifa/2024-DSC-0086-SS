{
 "cells": [
  {
   "cell_type": "code",
   "execution_count": 52,
   "id": "001e67c9-691b-4b92-8fe1-e28d07f43c5e",
   "metadata": {},
   "outputs": [],
   "source": [
    "from sklearn.model_selection import train_test_split"
   ]
  },
  {
   "cell_type": "code",
   "execution_count": 53,
   "id": "f7b8ab12-438e-4a67-b63e-779289980ebf",
   "metadata": {},
   "outputs": [],
   "source": [
    "from sklearn.linear_model import LinearRegression"
   ]
  },
  {
   "cell_type": "code",
   "execution_count": 54,
   "id": "e1468e1d-ecc1-43c9-ad7d-1ea79a2237fa",
   "metadata": {},
   "outputs": [],
   "source": [
    "from sklearn.metrics import mean_absolute_error"
   ]
  },
  {
   "cell_type": "code",
   "execution_count": 55,
   "id": "6abb4dc4-dc83-4760-a627-a99670aff355",
   "metadata": {},
   "outputs": [],
   "source": [
    "import numpy as np"
   ]
  },
  {
   "cell_type": "code",
   "execution_count": 56,
   "id": "c2e65db5-9c1f-4f54-8d34-a0a07e55e57d",
   "metadata": {},
   "outputs": [],
   "source": [
    "import pandas as pd"
   ]
  },
  {
   "cell_type": "code",
   "execution_count": 57,
   "id": "1840d2fe-4285-443e-8752-09f01aa0645e",
   "metadata": {},
   "outputs": [],
   "source": [
    "import matplotlib.pyplot as plt"
   ]
  },
  {
   "cell_type": "code",
   "execution_count": 58,
   "id": "056261c8-a4b6-47b5-9501-1285dedcaa5d",
   "metadata": {},
   "outputs": [],
   "source": [
    "import seaborn as sns"
   ]
  },
  {
   "cell_type": "code",
   "execution_count": 59,
   "id": "d46bd167-143f-4754-b8cd-d3717c47fc7b",
   "metadata": {},
   "outputs": [],
   "source": [
    "from numpy import random"
   ]
  },
  {
   "cell_type": "code",
   "execution_count": 60,
   "id": "241855c1-b01a-413c-91ac-b7f72b03c32a",
   "metadata": {},
   "outputs": [],
   "source": [
    "from datetime import datetime, timedelta"
   ]
  },
  {
   "cell_type": "code",
   "execution_count": null,
   "id": "bc2a27b2-4a1f-453c-8a80-1eb3b43c5cf1",
   "metadata": {},
   "outputs": [],
   "source": []
  },
  {
   "cell_type": "code",
   "execution_count": null,
   "id": "3732a90b-84be-4507-9e05-0e352ee06868",
   "metadata": {},
   "outputs": [],
   "source": [
    "source: knowledge from class practcal work "
   ]
  },
  {
   "cell_type": "markdown",
   "id": "ef5f7e7c-a18d-47ea-8577-e61fc1f14834",
   "metadata": {},
   "source": [
    "# question2"
   ]
  },
  {
   "cell_type": "code",
   "execution_count": 61,
   "id": "f90ebb43-8748-4b7d-a2d8-a06cc818b6a5",
   "metadata": {},
   "outputs": [
    {
     "data": {
      "text/html": [
       "<div>\n",
       "<style scoped>\n",
       "    .dataframe tbody tr th:only-of-type {\n",
       "        vertical-align: middle;\n",
       "    }\n",
       "\n",
       "    .dataframe tbody tr th {\n",
       "        vertical-align: top;\n",
       "    }\n",
       "\n",
       "    .dataframe thead th {\n",
       "        text-align: right;\n",
       "    }\n",
       "</style>\n",
       "<table border=\"1\" class=\"dataframe\">\n",
       "  <thead>\n",
       "    <tr style=\"text-align: right;\">\n",
       "      <th></th>\n",
       "      <th>StudentID</th>\n",
       "      <th>Gender</th>\n",
       "      <th>Age</th>\n",
       "      <th>StudyHoursPerWeek</th>\n",
       "      <th>AttendanceRate</th>\n",
       "      <th>GPA</th>\n",
       "      <th>Major</th>\n",
       "      <th>PartTimeJob</th>\n",
       "      <th>ExtraCurricularActivities</th>\n",
       "    </tr>\n",
       "  </thead>\n",
       "  <tbody>\n",
       "    <tr>\n",
       "      <th>0</th>\n",
       "      <td>1</td>\n",
       "      <td>Male</td>\n",
       "      <td>24</td>\n",
       "      <td>37</td>\n",
       "      <td>90.75</td>\n",
       "      <td>3.47</td>\n",
       "      <td>Arts</td>\n",
       "      <td>Yes</td>\n",
       "      <td>No</td>\n",
       "    </tr>\n",
       "    <tr>\n",
       "      <th>1</th>\n",
       "      <td>2</td>\n",
       "      <td>Female</td>\n",
       "      <td>22</td>\n",
       "      <td>37</td>\n",
       "      <td>74.90</td>\n",
       "      <td>2.32</td>\n",
       "      <td>Education</td>\n",
       "      <td>No</td>\n",
       "      <td>No</td>\n",
       "    </tr>\n",
       "    <tr>\n",
       "      <th>2</th>\n",
       "      <td>3</td>\n",
       "      <td>Male</td>\n",
       "      <td>22</td>\n",
       "      <td>10</td>\n",
       "      <td>53.36</td>\n",
       "      <td>2.38</td>\n",
       "      <td>Business</td>\n",
       "      <td>No</td>\n",
       "      <td>No</td>\n",
       "    </tr>\n",
       "    <tr>\n",
       "      <th>3</th>\n",
       "      <td>4</td>\n",
       "      <td>Male</td>\n",
       "      <td>24</td>\n",
       "      <td>10</td>\n",
       "      <td>70.26</td>\n",
       "      <td>3.46</td>\n",
       "      <td>Science</td>\n",
       "      <td>Yes</td>\n",
       "      <td>No</td>\n",
       "    </tr>\n",
       "    <tr>\n",
       "      <th>4</th>\n",
       "      <td>5</td>\n",
       "      <td>Male</td>\n",
       "      <td>18</td>\n",
       "      <td>19</td>\n",
       "      <td>74.87</td>\n",
       "      <td>2.31</td>\n",
       "      <td>Education</td>\n",
       "      <td>Yes</td>\n",
       "      <td>No</td>\n",
       "    </tr>\n",
       "    <tr>\n",
       "      <th>...</th>\n",
       "      <td>...</td>\n",
       "      <td>...</td>\n",
       "      <td>...</td>\n",
       "      <td>...</td>\n",
       "      <td>...</td>\n",
       "      <td>...</td>\n",
       "      <td>...</td>\n",
       "      <td>...</td>\n",
       "      <td>...</td>\n",
       "    </tr>\n",
       "    <tr>\n",
       "      <th>495</th>\n",
       "      <td>496</td>\n",
       "      <td>Male</td>\n",
       "      <td>22</td>\n",
       "      <td>37</td>\n",
       "      <td>76.61</td>\n",
       "      <td>2.97</td>\n",
       "      <td>Science</td>\n",
       "      <td>No</td>\n",
       "      <td>No</td>\n",
       "    </tr>\n",
       "    <tr>\n",
       "      <th>496</th>\n",
       "      <td>497</td>\n",
       "      <td>Male</td>\n",
       "      <td>23</td>\n",
       "      <td>11</td>\n",
       "      <td>56.29</td>\n",
       "      <td>3.20</td>\n",
       "      <td>Science</td>\n",
       "      <td>No</td>\n",
       "      <td>No</td>\n",
       "    </tr>\n",
       "    <tr>\n",
       "      <th>497</th>\n",
       "      <td>498</td>\n",
       "      <td>Female</td>\n",
       "      <td>20</td>\n",
       "      <td>6</td>\n",
       "      <td>56.64</td>\n",
       "      <td>3.20</td>\n",
       "      <td>Science</td>\n",
       "      <td>No</td>\n",
       "      <td>Yes</td>\n",
       "    </tr>\n",
       "    <tr>\n",
       "      <th>498</th>\n",
       "      <td>499</td>\n",
       "      <td>Male</td>\n",
       "      <td>22</td>\n",
       "      <td>18</td>\n",
       "      <td>57.18</td>\n",
       "      <td>2.05</td>\n",
       "      <td>Business</td>\n",
       "      <td>No</td>\n",
       "      <td>Yes</td>\n",
       "    </tr>\n",
       "    <tr>\n",
       "      <th>499</th>\n",
       "      <td>500</td>\n",
       "      <td>Female</td>\n",
       "      <td>24</td>\n",
       "      <td>21</td>\n",
       "      <td>96.99</td>\n",
       "      <td>2.64</td>\n",
       "      <td>Engineering</td>\n",
       "      <td>No</td>\n",
       "      <td>No</td>\n",
       "    </tr>\n",
       "  </tbody>\n",
       "</table>\n",
       "<p>500 rows × 9 columns</p>\n",
       "</div>"
      ],
      "text/plain": [
       "     StudentID  Gender  Age  StudyHoursPerWeek  AttendanceRate   GPA  \\\n",
       "0            1    Male   24                 37           90.75  3.47   \n",
       "1            2  Female   22                 37           74.90  2.32   \n",
       "2            3    Male   22                 10           53.36  2.38   \n",
       "3            4    Male   24                 10           70.26  3.46   \n",
       "4            5    Male   18                 19           74.87  2.31   \n",
       "..         ...     ...  ...                ...             ...   ...   \n",
       "495        496    Male   22                 37           76.61  2.97   \n",
       "496        497    Male   23                 11           56.29  3.20   \n",
       "497        498  Female   20                  6           56.64  3.20   \n",
       "498        499    Male   22                 18           57.18  2.05   \n",
       "499        500  Female   24                 21           96.99  2.64   \n",
       "\n",
       "           Major PartTimeJob ExtraCurricularActivities  \n",
       "0           Arts         Yes                        No  \n",
       "1      Education          No                        No  \n",
       "2       Business          No                        No  \n",
       "3        Science         Yes                        No  \n",
       "4      Education         Yes                        No  \n",
       "..           ...         ...                       ...  \n",
       "495      Science          No                        No  \n",
       "496      Science          No                        No  \n",
       "497      Science          No                       Yes  \n",
       "498     Business          No                       Yes  \n",
       "499  Engineering          No                        No  \n",
       "\n",
       "[500 rows x 9 columns]"
      ]
     },
     "execution_count": 61,
     "metadata": {},
     "output_type": "execute_result"
    }
   ],
   "source": [
    "student_df = pd.read_csv('student_performance_data.csv')#loading data\n",
    "student_df"
   ]
  },
  {
   "cell_type": "markdown",
   "id": "68b925ec-7e06-458d-8274-0c380c88d1fd",
   "metadata": {},
   "source": [
    "# (a)"
   ]
  },
  {
   "cell_type": "code",
   "execution_count": 64,
   "id": "fc022c28-e8cb-4aab-82b7-a4b5a7327757",
   "metadata": {},
   "outputs": [
    {
     "name": "stdout",
     "output_type": "stream",
     "text": [
      "Highest Study Hours Major:\n",
      "Gender\n",
      "Female    (Female, Business)\n",
      "Male       (Male, Education)\n",
      "Name: StudyHoursPerWeek, dtype: object\n",
      "Gender\n",
      "Female    1229\n",
      "Male      1212\n",
      "Name: StudyHoursPerWeek, dtype: int64\n"
     ]
    }
   ],
   "source": [
    "study_hours_major = student_df.groupby(['Gender', 'Major'])['StudyHoursPerWeek'].sum()\n",
    "highest_study_hours_major = study_hours_major.groupby('Gender').idxmax()\n",
    "highest_study_hours_major_values = study_hours_major.groupby('Gender').max()\n",
    "\n",
    "print(\"Highest Study Hours Major:\")\n",
    "print(highest_study_hours_major)\n",
    "print(highest_study_hours_major_values)\n"
   ]
  },
  {
   "cell_type": "markdown",
   "id": "679e0c20-6bd2-41f0-985d-46e75f2392e4",
   "metadata": {},
   "source": [
    "# (b)"
   ]
  },
  {
   "cell_type": "code",
   "execution_count": 65,
   "id": "7b828dd0-ec2a-4a2f-a0f8-7f298da1a180",
   "metadata": {},
   "outputs": [
    {
     "name": "stdout",
     "output_type": "stream",
     "text": [
      "Highest total study hours by major for each gender:\n",
      "Gender\n",
      "Female    (Female, Business)\n",
      "Male       (Male, Education)\n",
      "Name: StudyHoursPerWeek, dtype: object\n",
      "Gender\n",
      "Female    1229\n",
      "Male      1212\n",
      "Name: StudyHoursPerWeek, dtype: int64\n"
     ]
    }
   ],
   "source": [
    "# Group by Gender and Major, then sum study hours\n",
    "study_hours_major = student_df.groupby(['Gender', 'Major'])['StudyHoursPerWeek'].sum()\n",
    "highest_study_hours_major = study_hours_major.groupby('Gender').idxmax()\n",
    "highest_study_hours_major_values = study_hours_major.groupby('Gender').max()\n",
    "\n",
    "print(\"Highest total study hours by major for each gender:\")\n",
    "print(highest_study_hours_major)\n",
    "print(highest_study_hours_major_values)\n"
   ]
  },
  {
   "cell_type": "markdown",
   "id": "90cf1094-029f-4646-8953-444fc0925b2b",
   "metadata": {},
   "source": [
    "# (c)"
   ]
  },
  {
   "cell_type": "code",
   "execution_count": 66,
   "id": "ceef5594-e0ae-4f1d-814f-785a92fafb3e",
   "metadata": {},
   "outputs": [
    {
     "name": "stdout",
     "output_type": "stream",
     "text": [
      "Percentage of Students with Part-Time Jobs:\n",
      "PartTimeJob\n",
      "Yes    53.6\n",
      "No     46.4\n",
      "Name: proportion, dtype: float64\n"
     ]
    }
   ],
   "source": [
    "part_time_job_counts = student_df['PartTimeJob'].value_counts(normalize=True) * 100\n",
    "\n",
    "print(\"Percentage of Students with Part-Time Jobs:\")\n",
    "print(part_time_job_counts)\n"
   ]
  },
  {
   "cell_type": "markdown",
   "id": "77267360-3583-406d-9928-433471701d1a",
   "metadata": {},
   "source": [
    "# (d)"
   ]
  },
  {
   "cell_type": "code",
   "execution_count": 69,
   "id": "dc3b0857-0c8f-4f4d-9066-5294b873a320",
   "metadata": {},
   "outputs": [
    {
     "name": "stdout",
     "output_type": "stream",
     "text": [
      "Mean GPA and Age Variance by Gender:\n",
      "             GPA       Age\n",
      "Gender                    \n",
      "Female  2.995352  4.005637\n",
      "Male    2.974467  3.960130\n"
     ]
    }
   ],
   "source": [
    "mean_gpa_variance_age = student_df.groupby('Gender').agg({'GPA': 'mean', 'Age': 'var'})\n",
    "\n",
    "print(\"Mean GPA and Age Variance by Gender:\")\n",
    "print(mean_gpa_variance_age)\n"
   ]
  },
  {
   "cell_type": "markdown",
   "id": "6ac7f397-1a4c-48ae-aa08-f28e485cbd49",
   "metadata": {},
   "source": [
    "# (e)"
   ]
  },
  {
   "cell_type": "code",
   "execution_count": 70,
   "id": "9c8afe29-972d-4477-bd40-3409afb0d89e",
   "metadata": {},
   "outputs": [
    {
     "data": {
      "image/png": "[encoded data removed]",
      "text/plain": [
       "<Figure size 800x600 with 1 Axes>"
      ]
     },
     "metadata": {},
     "output_type": "display_data"
    }
   ],
   "source": [
    "plt.figure(figsize=(8, 6))\n",
    "sns.scatterplot(data=student_df, x='AttendanceRate', y='GPA', hue='Gender', style='Gender')\n",
    "plt.title('Relationship between Attendance Rate and GPA')\n",
    "plt.xlabel('Attendance Rate (%)')\n",
    "plt.ylabel('GPA')\n",
    "plt.legend(title='Gender')\n",
    "plt.show()\n"
   ]
  },
  {
   "cell_type": "code",
   "execution_count": null,
   "id": "13147236-622d-42cb-980d-9c149a3aca1c",
   "metadata": {},
   "outputs": [],
   "source": [
    "# source: On this question i also used three sources\n",
    "1.simple linear regression notes you shared with us on the email and my summary i took during the clas\n",
    "2.w3schools\n",
    "3.Yuli Vasiliev,python for Data Science:https//www.oreilly.com/library/view/python-for-data/97810981333330275"
   ]
  },
  {
   "cell_type": "markdown",
   "id": "f53fc38d-47c6-4c2a-8f0a-3820267bd399",
   "metadata": {},
   "source": [
    "# question3"
   ]
  },
  {
   "cell_type": "code",
   "execution_count": 43,
   "id": "609e043a-9c02-4a14-a279-17eeb1625aa7",
   "metadata": {},
   "outputs": [
    {
     "data": {
      "text/html": [
       "<div>\n",
       "<style scoped>\n",
       "    .dataframe tbody tr th:only-of-type {\n",
       "        vertical-align: middle;\n",
       "    }\n",
       "\n",
       "    .dataframe tbody tr th {\n",
       "        vertical-align: top;\n",
       "    }\n",
       "\n",
       "    .dataframe thead th {\n",
       "        text-align: right;\n",
       "    }\n",
       "</style>\n",
       "<table border=\"1\" class=\"dataframe\">\n",
       "  <thead>\n",
       "    <tr style=\"text-align: right;\">\n",
       "      <th></th>\n",
       "      <th>Age</th>\n",
       "      <th>Sex</th>\n",
       "      <th>Marital_status</th>\n",
       "      <th>Number_of_children</th>\n",
       "      <th>Family_size</th>\n",
       "      <th>Education-degree_recode</th>\n",
       "      <th>Education-degree_recode 2</th>\n",
       "      <th>Education</th>\n",
       "      <th>Race_ethnicity-multi_recode</th>\n",
       "      <th>Immigrate-year</th>\n",
       "      <th>Birthplace_recode</th>\n",
       "      <th>Speaks_English</th>\n",
       "      <th>Employment_status</th>\n",
       "      <th>Income-wages</th>\n",
       "      <th>Region_recode</th>\n",
       "      <th>Region-division_recode</th>\n",
       "      <th>Moved</th>\n",
       "      <th>Year</th>\n",
       "      <th>state</th>\n",
       "    </tr>\n",
       "  </thead>\n",
       "  <tbody>\n",
       "    <tr>\n",
       "      <th>0</th>\n",
       "      <td>30</td>\n",
       "      <td>Male</td>\n",
       "      <td>Married, spouse present</td>\n",
       "      <td>2</td>\n",
       "      <td>4</td>\n",
       "      <td>Masterâ€™s or professional degree</td>\n",
       "      <td>Master or professional degree</td>\n",
       "      <td>Master or PhD or professional degree</td>\n",
       "      <td>Non-Hispanic White</td>\n",
       "      <td>0</td>\n",
       "      <td>U.S. state, territory, or outlying region</td>\n",
       "      <td>Yes, speaks only English</td>\n",
       "      <td>Employed</td>\n",
       "      <td>63000</td>\n",
       "      <td>South</td>\n",
       "      <td>East South Central</td>\n",
       "      <td>Same house</td>\n",
       "      <td>2020</td>\n",
       "      <td>Tennessee</td>\n",
       "    </tr>\n",
       "    <tr>\n",
       "      <th>1</th>\n",
       "      <td>28</td>\n",
       "      <td>Female</td>\n",
       "      <td>Married, spouse present</td>\n",
       "      <td>1 child present</td>\n",
       "      <td>3</td>\n",
       "      <td>Masterâ€™s or professional degree</td>\n",
       "      <td>Master or professional degree</td>\n",
       "      <td>Master or PhD or professional degree</td>\n",
       "      <td>Non-Hispanic White</td>\n",
       "      <td>0</td>\n",
       "      <td>U.S. state, territory, or outlying region</td>\n",
       "      <td>Yes, speaks only English</td>\n",
       "      <td>Employed</td>\n",
       "      <td>46000</td>\n",
       "      <td>South</td>\n",
       "      <td>East South Central</td>\n",
       "      <td>Same house</td>\n",
       "      <td>2020</td>\n",
       "      <td>Tennessee</td>\n",
       "    </tr>\n",
       "    <tr>\n",
       "      <th>2</th>\n",
       "      <td>34</td>\n",
       "      <td>Male</td>\n",
       "      <td>Married, spouse present</td>\n",
       "      <td>1 child present</td>\n",
       "      <td>3</td>\n",
       "      <td>Bachelorâ€™s degree</td>\n",
       "      <td>Bachelor degree</td>\n",
       "      <td>Associate or Bachelor degree</td>\n",
       "      <td>Non-Hispanic White</td>\n",
       "      <td>0</td>\n",
       "      <td>U.S. state, territory, or outlying region</td>\n",
       "      <td>Yes, speaks only English</td>\n",
       "      <td>Employed</td>\n",
       "      <td>45000</td>\n",
       "      <td>South</td>\n",
       "      <td>East South Central</td>\n",
       "      <td>Same house</td>\n",
       "      <td>2020</td>\n",
       "      <td>Tennessee</td>\n",
       "    </tr>\n",
       "    <tr>\n",
       "      <th>3</th>\n",
       "      <td>58</td>\n",
       "      <td>Female</td>\n",
       "      <td>Married, spouse absent</td>\n",
       "      <td>1 child present</td>\n",
       "      <td>2</td>\n",
       "      <td>1 or more years of college, no degree</td>\n",
       "      <td>1 or more years of college, no degree</td>\n",
       "      <td>1 or more years of college, no degree</td>\n",
       "      <td>Non-Hispanic White</td>\n",
       "      <td>0</td>\n",
       "      <td>U.S. state, territory, or outlying region</td>\n",
       "      <td>Yes, speaks only English</td>\n",
       "      <td>Employed</td>\n",
       "      <td>55000</td>\n",
       "      <td>South</td>\n",
       "      <td>East South Central</td>\n",
       "      <td>Same house</td>\n",
       "      <td>2020</td>\n",
       "      <td>Tennessee</td>\n",
       "    </tr>\n",
       "    <tr>\n",
       "      <th>4</th>\n",
       "      <td>39</td>\n",
       "      <td>Male</td>\n",
       "      <td>Never married/single</td>\n",
       "      <td>0 children present</td>\n",
       "      <td>1</td>\n",
       "      <td>Bachelorâ€™s degree</td>\n",
       "      <td>Bachelor degree</td>\n",
       "      <td>Associate or Bachelor degree</td>\n",
       "      <td>Non-Hispanic White</td>\n",
       "      <td>0</td>\n",
       "      <td>U.S. state, territory, or outlying region</td>\n",
       "      <td>Yes, speaks only English</td>\n",
       "      <td>Employed</td>\n",
       "      <td>12000</td>\n",
       "      <td>South</td>\n",
       "      <td>East South Central</td>\n",
       "      <td>Same house</td>\n",
       "      <td>2020</td>\n",
       "      <td>Tennessee</td>\n",
       "    </tr>\n",
       "    <tr>\n",
       "      <th>...</th>\n",
       "      <td>...</td>\n",
       "      <td>...</td>\n",
       "      <td>...</td>\n",
       "      <td>...</td>\n",
       "      <td>...</td>\n",
       "      <td>...</td>\n",
       "      <td>...</td>\n",
       "      <td>...</td>\n",
       "      <td>...</td>\n",
       "      <td>...</td>\n",
       "      <td>...</td>\n",
       "      <td>...</td>\n",
       "      <td>...</td>\n",
       "      <td>...</td>\n",
       "      <td>...</td>\n",
       "      <td>...</td>\n",
       "      <td>...</td>\n",
       "      <td>...</td>\n",
       "      <td>...</td>\n",
       "    </tr>\n",
       "    <tr>\n",
       "      <th>4360</th>\n",
       "      <td>67</td>\n",
       "      <td>Male</td>\n",
       "      <td>Married, spouse present</td>\n",
       "      <td>0 children present</td>\n",
       "      <td>2</td>\n",
       "      <td>Bachelorâ€™s degree</td>\n",
       "      <td>Bachelor degree</td>\n",
       "      <td>Associate or Bachelor degree</td>\n",
       "      <td>Non-Hispanic White</td>\n",
       "      <td>0</td>\n",
       "      <td>U.S. state, territory, or outlying region</td>\n",
       "      <td>Yes, speaks only English</td>\n",
       "      <td>Employed</td>\n",
       "      <td>40000</td>\n",
       "      <td>Midwest</td>\n",
       "      <td>West North Central</td>\n",
       "      <td>Same house</td>\n",
       "      <td>2020</td>\n",
       "      <td>North Dakota</td>\n",
       "    </tr>\n",
       "    <tr>\n",
       "      <th>4361</th>\n",
       "      <td>48</td>\n",
       "      <td>Male</td>\n",
       "      <td>Married, spouse present</td>\n",
       "      <td>4</td>\n",
       "      <td>6</td>\n",
       "      <td>Associateâ€™s degree</td>\n",
       "      <td>Associate degree</td>\n",
       "      <td>Associate or Bachelor degree</td>\n",
       "      <td>Non-Hispanic White</td>\n",
       "      <td>0</td>\n",
       "      <td>U.S. state, territory, or outlying region</td>\n",
       "      <td>Yes, speaks only English</td>\n",
       "      <td>Employed</td>\n",
       "      <td>65000</td>\n",
       "      <td>Midwest</td>\n",
       "      <td>West North Central</td>\n",
       "      <td>Same house</td>\n",
       "      <td>2020</td>\n",
       "      <td>North Dakota</td>\n",
       "    </tr>\n",
       "    <tr>\n",
       "      <th>4362</th>\n",
       "      <td>33</td>\n",
       "      <td>Male</td>\n",
       "      <td>Married, spouse absent</td>\n",
       "      <td>0 children present</td>\n",
       "      <td>1</td>\n",
       "      <td>Associateâ€™s degree</td>\n",
       "      <td>Associate degree</td>\n",
       "      <td>Associate or Bachelor degree</td>\n",
       "      <td>Non-Hispanic Black</td>\n",
       "      <td>2017</td>\n",
       "      <td>Africa</td>\n",
       "      <td>Yes, speaks very well</td>\n",
       "      <td>Employed</td>\n",
       "      <td>45000</td>\n",
       "      <td>Midwest</td>\n",
       "      <td>West North Central</td>\n",
       "      <td>Same house</td>\n",
       "      <td>2020</td>\n",
       "      <td>North Dakota</td>\n",
       "    </tr>\n",
       "    <tr>\n",
       "      <th>4363</th>\n",
       "      <td>22</td>\n",
       "      <td>Female</td>\n",
       "      <td>Never married/single</td>\n",
       "      <td>0 children present</td>\n",
       "      <td>2</td>\n",
       "      <td>1 or more years of college, no degree</td>\n",
       "      <td>1 or more years of college, no degree</td>\n",
       "      <td>1 or more years of college, no degree</td>\n",
       "      <td>Non-Hispanic White</td>\n",
       "      <td>0</td>\n",
       "      <td>U.S. state, territory, or outlying region</td>\n",
       "      <td>Yes, speaks only English</td>\n",
       "      <td>Employed</td>\n",
       "      <td>500</td>\n",
       "      <td>Midwest</td>\n",
       "      <td>West North Central</td>\n",
       "      <td>Same house</td>\n",
       "      <td>2020</td>\n",
       "      <td>North Dakota</td>\n",
       "    </tr>\n",
       "    <tr>\n",
       "      <th>4364</th>\n",
       "      <td>49</td>\n",
       "      <td>Female</td>\n",
       "      <td>Married, spouse present</td>\n",
       "      <td>2</td>\n",
       "      <td>4</td>\n",
       "      <td>Masterâ€™s or professional degree</td>\n",
       "      <td>Master or professional degree</td>\n",
       "      <td>Master or PhD or professional degree</td>\n",
       "      <td>Non-Hispanic White</td>\n",
       "      <td>0</td>\n",
       "      <td>U.S. state, territory, or outlying region</td>\n",
       "      <td>Yes, speaks only English</td>\n",
       "      <td>Employed</td>\n",
       "      <td>498000</td>\n",
       "      <td>Midwest</td>\n",
       "      <td>West North Central</td>\n",
       "      <td>Same house</td>\n",
       "      <td>2020</td>\n",
       "      <td>North Dakota</td>\n",
       "    </tr>\n",
       "  </tbody>\n",
       "</table>\n",
       "<p>4365 rows × 19 columns</p>\n",
       "</div>"
      ],
      "text/plain": [
       "      Age     Sex           Marital_status  Number_of_children  Family_size  \\\n",
       "0      30    Male  Married, spouse present                   2            4   \n",
       "1      28  Female  Married, spouse present     1 child present            3   \n",
       "2      34    Male  Married, spouse present     1 child present            3   \n",
       "3      58  Female   Married, spouse absent     1 child present            2   \n",
       "4      39    Male     Never married/single  0 children present            1   \n",
       "...   ...     ...                      ...                 ...          ...   \n",
       "4360   67    Male  Married, spouse present  0 children present            2   \n",
       "4361   48    Male  Married, spouse present                   4            6   \n",
       "4362   33    Male   Married, spouse absent  0 children present            1   \n",
       "4363   22  Female     Never married/single  0 children present            2   \n",
       "4364   49  Female  Married, spouse present                   2            4   \n",
       "\n",
       "                    Education-degree_recode  \\\n",
       "0         Masterâ€™s or professional degree   \n",
       "1         Masterâ€™s or professional degree   \n",
       "2                       Bachelorâ€™s degree   \n",
       "3     1 or more years of college, no degree   \n",
       "4                       Bachelorâ€™s degree   \n",
       "...                                     ...   \n",
       "4360                    Bachelorâ€™s degree   \n",
       "4361                   Associateâ€™s degree   \n",
       "4362                   Associateâ€™s degree   \n",
       "4363  1 or more years of college, no degree   \n",
       "4364      Masterâ€™s or professional degree   \n",
       "\n",
       "                  Education-degree_recode 2  \\\n",
       "0             Master or professional degree   \n",
       "1             Master or professional degree   \n",
       "2                           Bachelor degree   \n",
       "3     1 or more years of college, no degree   \n",
       "4                           Bachelor degree   \n",
       "...                                     ...   \n",
       "4360                        Bachelor degree   \n",
       "4361                       Associate degree   \n",
       "4362                       Associate degree   \n",
       "4363  1 or more years of college, no degree   \n",
       "4364          Master or professional degree   \n",
       "\n",
       "                                  Education Race_ethnicity-multi_recode  \\\n",
       "0      Master or PhD or professional degree          Non-Hispanic White   \n",
       "1      Master or PhD or professional degree          Non-Hispanic White   \n",
       "2              Associate or Bachelor degree          Non-Hispanic White   \n",
       "3     1 or more years of college, no degree          Non-Hispanic White   \n",
       "4              Associate or Bachelor degree          Non-Hispanic White   \n",
       "...                                     ...                         ...   \n",
       "4360           Associate or Bachelor degree          Non-Hispanic White   \n",
       "4361           Associate or Bachelor degree          Non-Hispanic White   \n",
       "4362           Associate or Bachelor degree          Non-Hispanic Black   \n",
       "4363  1 or more years of college, no degree          Non-Hispanic White   \n",
       "4364   Master or PhD or professional degree          Non-Hispanic White   \n",
       "\n",
       "      Immigrate-year                          Birthplace_recode  \\\n",
       "0                  0  U.S. state, territory, or outlying region   \n",
       "1                  0  U.S. state, territory, or outlying region   \n",
       "2                  0  U.S. state, territory, or outlying region   \n",
       "3                  0  U.S. state, territory, or outlying region   \n",
       "4                  0  U.S. state, territory, or outlying region   \n",
       "...              ...                                        ...   \n",
       "4360               0  U.S. state, territory, or outlying region   \n",
       "4361               0  U.S. state, territory, or outlying region   \n",
       "4362            2017                                     Africa   \n",
       "4363               0  U.S. state, territory, or outlying region   \n",
       "4364               0  U.S. state, territory, or outlying region   \n",
       "\n",
       "                Speaks_English Employment_status  Income-wages Region_recode  \\\n",
       "0     Yes, speaks only English          Employed         63000         South   \n",
       "1     Yes, speaks only English          Employed         46000         South   \n",
       "2     Yes, speaks only English          Employed         45000         South   \n",
       "3     Yes, speaks only English          Employed         55000         South   \n",
       "4     Yes, speaks only English          Employed         12000         South   \n",
       "...                        ...               ...           ...           ...   \n",
       "4360  Yes, speaks only English          Employed         40000       Midwest   \n",
       "4361  Yes, speaks only English          Employed         65000       Midwest   \n",
       "4362     Yes, speaks very well          Employed         45000       Midwest   \n",
       "4363  Yes, speaks only English          Employed           500       Midwest   \n",
       "4364  Yes, speaks only English          Employed        498000       Midwest   \n",
       "\n",
       "     Region-division_recode       Moved  Year         state  \n",
       "0        East South Central  Same house  2020     Tennessee  \n",
       "1        East South Central  Same house  2020     Tennessee  \n",
       "2        East South Central  Same house  2020     Tennessee  \n",
       "3        East South Central  Same house  2020     Tennessee  \n",
       "4        East South Central  Same house  2020     Tennessee  \n",
       "...                     ...         ...   ...           ...  \n",
       "4360     West North Central  Same house  2020  North Dakota  \n",
       "4361     West North Central  Same house  2020  North Dakota  \n",
       "4362     West North Central  Same house  2020  North Dakota  \n",
       "4363     West North Central  Same house  2020  North Dakota  \n",
       "4364     West North Central  Same house  2020  North Dakota  \n",
       "\n",
       "[4365 rows x 19 columns]"
      ]
     },
     "execution_count": 43,
     "metadata": {},
     "output_type": "execute_result"
    }
   ],
   "source": [
    "data = pd.read_excel('Wages 2020Census cleaned.xlsx')#\n",
    "data"
   ]
  },
  {
   "cell_type": "markdown",
   "id": "ef611f78-2d62-4e38-99bc-82676d1671f5",
   "metadata": {},
   "source": []
  },
  {
   "cell_type": "markdown",
   "id": "7ee6c42a-30bf-4605-967a-775c08e447fa",
   "metadata": {},
   "source": [
    "# (a)Steps involved in fitting a linear regression in Python"
   ]
  },
  {
   "cell_type": "markdown",
   "id": "c9397dc0-1e51-4780-8300-65240feb22a5",
   "metadata": {},
   "source": [
    "Import Libraries: Use libraries such as pandas, numpy, and sklearn.\n",
    "Load Dataset: Load the dataset into a DataFrame using pandas.read_csv.\n",
    "Select Variables: Choose the dependent variable (e.g., Income-wages) and an independent variable (e.g., Age).\n",
    "Preprocess Data: Handle missing values and ensure numerical encoding of categorical variables.\n",
    "Split Dataset: Divide data into training and testing sets using train_test_split.\n",
    "Train Model: Use LinearRegression() from sklearn.linear_model and fit the model with model.fit(X_train, y_train).\n",
    "Evaluate Model: Predict using model.predict(X_test) and calculate metrics such as MAE or MSE."
   ]
  },
  {
   "cell_type": "markdown",
   "id": "0eefe8c3-2d92-4f14-b715-99d35924f287",
   "metadata": {},
   "source": [
    "# "
   ]
  },
  {
   "cell_type": "markdown",
   "id": "3adcf984-d25a-4215-b28f-05158f9d0a65",
   "metadata": {},
   "source": [
    "# (b)  Assumptions of Linear Regression"
   ]
  },
  {
   "cell_type": "markdown",
   "id": "ad51f0c7-828a-4aa4-8b73-ac198a7acda8",
   "metadata": {},
   "source": [
    "Linearity: The relationship between the independent variable and the dependent variable is linear.\n",
    "Independence: Observations are independent, and errors are not autocorrelated.\n",
    "Homoscedasticity: Variance of errors (residuals) is constant across all levels of the independent variable.\n",
    "Normality: Residuals follow a normal distribution."
   ]
  },
  {
   "cell_type": "markdown",
   "id": "db760597-717e-4396-aeab-f3940f1c6414",
   "metadata": {},
   "source": [
    "# (c) Train a simple linear regression model "
   ]
  },
  {
   "cell_type": "code",
   "execution_count": 45,
   "id": "733a31f5-182d-433b-b088-1f792e6380a2",
   "metadata": {},
   "outputs": [
    {
     "name": "stdout",
     "output_type": "stream",
     "text": [
      "Regression Equation: y = 20242.34 + 939.96x\n"
     ]
    }
   ],
   "source": [
    "\n",
    "# Select independent and dependent variables\n",
    "X = data[['Age']]  # Independent variable\n",
    "y = data['Income-wages']  # Dependent variable\n",
    "\n",
    "# Split dataset into train and test\n",
    "X_train, X_test, y_train, y_test = train_test_split(X, y, test_size=0.2, random_state=42)\n",
    "\n",
    "# Train linear regression model\n",
    "model = LinearRegression()\n",
    "model.fit(X_train, y_train)\n",
    "\n",
    "# Generate equation\n",
    "intercept = model.intercept_\n",
    "coef = model.coef_[0]\n",
    "print(f\"Regression Equation: y = {intercept:.2f} + {coef:.2f}x\")\n"
   ]
  },
  {
   "cell_type": "markdown",
   "id": "b826b79c-b8c1-4567-b17f-b45085dbbe87",
   "metadata": {},
   "source": [
    "# (d)  Compute the Mean Absolute Error (MAE)"
   ]
  },
  {
   "cell_type": "code",
   "execution_count": 46,
   "id": "6d13d838-d59d-4173-9653-5b3575f0e7c5",
   "metadata": {},
   "outputs": [
    {
     "name": "stdout",
     "output_type": "stream",
     "text": [
      "Mean Absolute Error (MAE): 36284.38\n"
     ]
    }
   ],
   "source": [
    "# Predict on test data\n",
    "y_pred = model.predict(X_test)\n",
    "\n",
    "# Calculate MAE\n",
    "mae = mean_absolute_error(y_test, y_pred)\n",
    "print(f\"Mean Absolute Error (MAE): {mae:.2f}\")\n"
   ]
  },
  {
   "cell_type": "markdown",
   "id": "4bec6c37-3a7c-4435-bd17-67b1d20e68f5",
   "metadata": {},
   "source": [
    "# (e) Extract and Interpret Key Outputs"
   ]
  },
  {
   "cell_type": "markdown",
   "id": "c2f15a7c-857a-4a1c-bdb4-20d986e614d2",
   "metadata": {},
   "source": [
    "# (f) Plot the Linear Regression Model"
   ]
  },
  {
   "cell_type": "code",
   "execution_count": 48,
   "id": "2b16631d-dd6a-4446-bd21-21aa6e798599",
   "metadata": {},
   "outputs": [
    {
     "data": {
      "image/png": "[encoded data removed]",
      "text/plain": [
       "<Figure size 640x480 with 1 Axes>"
      ]
     },
     "metadata": {},
     "output_type": "display_data"
    }
   ],
   "source": [
    "# Scatter plot of actual values\n",
    "plt.scatter(X_test, y_test, color='blue', label='Actual Data')\n",
    "\n",
    "# Plot regression line\n",
    "plt.plot(X_test, y_pred, color='red', label='Regression Line')\n",
    "\n",
    "plt.xlabel('Age')\n",
    "plt.ylabel('Income-wages')\n",
    "plt.title('Linear Regression Model: Income vs Age')\n",
    "plt.legend()\n",
    "plt.show()\n"
   ]
  },
  {
   "cell_type": "code",
   "execution_count": null,
   "id": "d203111e-e737-4d66-b604-9a6e172a2ab9",
   "metadata": {},
   "outputs": [],
   "source": [
    "#  source:i got my answers from two sources on this question, \n",
    "1.stack overflow \n",
    "2.practicles we did in class"
   ]
  },
  {
   "cell_type": "markdown",
   "id": "cfa1caa9-04bc-4b73-bc74-a94d823c3370",
   "metadata": {},
   "source": [
    "# question1"
   ]
  },
  {
   "cell_type": "markdown",
   "id": "cde1c4ea-8ca1-4bd7-9abc-06440aad3ed2",
   "metadata": {},
   "source": [
    "# (a)"
   ]
  },
  {
   "cell_type": "code",
   "execution_count": 49,
   "id": "0fe2a904-5031-4a72-8494-7818c6b2e33f",
   "metadata": {},
   "outputs": [
    {
     "name": "stdout",
     "output_type": "stream",
     "text": [
      "Mean Income: $58704.16\n",
      "Median Income: $41000.00\n"
     ]
    }
   ],
   "source": [
    "#To determine the \"typical\" yearly income, we use measures of central tendency such as the mean and median\n",
    "typical_income_mean = data['Income-wages'].mean()#The mean represents the average yearly income\n",
    "typical_income_median = data['Income-wages'].median()#The median is the middle income value, which is more robust to outliers\n",
    "print(f\"Mean Income: ${typical_income_mean:.2f}\")\n",
    "print(f\"Median Income: ${typical_income_median:.2f}\")"
   ]
  },
  {
   "cell_type": "markdown",
   "id": "545d5164-1eb0-41a7-b572-2f02124d6001",
   "metadata": {},
   "source": [
    "# (b)"
   ]
  },
  {
   "cell_type": "code",
   "execution_count": 50,
   "id": "7bc41900-45ed-4ec0-84bb-9b434162d445",
   "metadata": {},
   "outputs": [
    {
     "name": "stdout",
     "output_type": "stream",
     "text": [
      "Standard Deviation: $68338.06\n",
      "IQR: $49000.00\n"
     ]
    }
   ],
   "source": [
    "#If the SD or IQR is significantly greater than 0, incomes vary.\n",
    "#A histogram or boxplot can also visualize income distribution\n",
    "std_dev = data['Income-wages'].std()\n",
    "iqr = data['Income-wages'].quantile(0.75) - data['Income-wages'].quantile(0.25)\n",
    "print(f\"Standard Deviation: ${std_dev:.2f}\")\n",
    "print(f\"IQR: ${iqr:.2f}\")\n"
   ]
  },
  {
   "cell_type": "markdown",
   "id": "03f6ac91-0098-4a8f-a4e5-fb14c31a4a21",
   "metadata": {},
   "source": [
    "# (c)"
   ]
  },
  {
   "cell_type": "code",
   "execution_count": 51,
   "id": "175437fe-eb0e-4193-a50c-6ac8194b9ceb",
   "metadata": {},
   "outputs": [
    {
     "name": "stdout",
     "output_type": "stream",
     "text": [
      "Standard deviation with no variability: 0\n",
      "no_variability_IQR with no variability: 0\n"
     ]
    }
   ],
   "source": [
    "no_variability_std_dev = 0 #no variability, standard deviation and IQR are both 0\n",
    "no_variability_IQR = 0\n",
    "print(f'Standard deviation with no variability: {no_variability_std_dev}')\n",
    "print(f'no_variability_IQR with no variability: {no_variability_IQR}')"
   ]
  },
  {
   "cell_type": "markdown",
   "id": "e92a9837-a3fc-46a4-b03e-b6110051869e",
   "metadata": {},
   "source": [
    "# (d)"
   ]
  },
  {
   "cell_type": "code",
   "execution_count": 25,
   "id": "59fae0a3-54c1-448f-bb73-43fd6dd71af4",
   "metadata": {},
   "outputs": [
    {
     "name": "stdout",
     "output_type": "stream",
     "text": [
      "Mean income: $58,704.16\n",
      "Median income: $41,000.00\n",
      "Min income: $30.00\n",
      "Max income: $661,000.00\n",
      "Q1 income: $22,000.00\n",
      "Q3 income: $71,000.00\n"
     ]
    }
   ],
   "source": [
    "no_variability_mean = data['Income-wages'].mean()\n",
    "no_variability_median = data['Income-wages'].median()\n",
    "no_variability_min = data['Income-wages'].min()\n",
    "no_variability_max = data['Income-wages'].max()\n",
    "no_variability_Q1 = data['Income-wages'].quantile(0.25)\n",
    "no_variability_Q3 = data['Income-wages'].quantile(0.75)\n",
    "print(f'Mean income: ${no_variability_mean:,.2f}')\n",
    "print(f'Median income: ${no_variability_median:,.2f}')\n",
    "print(f'Min income: ${no_variability_min:,.2f}')\n",
    "print(f'Max income: ${no_variability_max:,.2f}')\n",
    "print(f'Q1 income: ${no_variability_Q1:,.2f}')\n",
    "print(f'Q3 income: ${no_variability_Q3:,.2f}')"
   ]
  },
  {
   "cell_type": "markdown",
   "id": "a50cd17c-cbbd-435c-86c7-feea81e7186f",
   "metadata": {},
   "source": [
    "# (e)"
   ]
  },
  {
   "cell_type": "code",
   "execution_count": 29,
   "id": "052d36b3-7041-4e76-9481-447b3d339c0a",
   "metadata": {},
   "outputs": [
    {
     "data": {
      "image/png": "[encoded data removed]",
      "text/plain": [
       "<Figure size 640x480 with 1 Axes>"
      ]
     },
     "metadata": {},
     "output_type": "display_data"
    }
   ],
   "source": [
    "sns.boxplot(data=data, x='Education', y='Income-wages')\n",
    "plt.title('Income by Education')\n",
    "plt.xticks(rotation=45)\n",
    "plt.show()\n"
   ]
  },
  {
   "cell_type": "code",
   "execution_count": 31,
   "id": "32afb857-c8cb-476b-9653-690b355771c5",
   "metadata": {},
   "outputs": [
    {
     "name": "stdout",
     "output_type": "stream",
     "text": [
      "Income statistics by Education Level:\n",
      "                                        count           mean            std  \\\n",
      "Education                                                                     \n",
      "1 or more years of college, no degree   940.0   43912.872340   43801.946631   \n",
      "Associate or Bachelor degree           1521.0   66324.260355   68490.580580   \n",
      "HS diploma or GED                       990.0   39983.646465   39070.521919   \n",
      "Master or PhD or professional degree    613.0  106567.928222  108705.990391   \n",
      "Some schooling, no HS diploma           301.0   30486.478405   37496.119642   \n",
      "\n",
      "                                         min      25%      50%       75%  \\\n",
      "Education                                                                  \n",
      "1 or more years of college, no degree  180.0  17500.0  34400.0   58000.0   \n",
      "Associate or Bachelor degree           300.0  30000.0  50000.0   80000.0   \n",
      "HS diploma or GED                       30.0  18000.0  32000.0   50000.0   \n",
      "Master or PhD or professional degree   320.0  48000.0  76000.0  120000.0   \n",
      "Some schooling, no HS diploma          230.0  10000.0  24000.0   40000.0   \n",
      "\n",
      "                                            max  \n",
      "Education                                        \n",
      "1 or more years of college, no degree  475000.0  \n",
      "Associate or Bachelor degree           661000.0  \n",
      "HS diploma or GED                      565000.0  \n",
      "Master or PhD or professional degree   661000.0  \n",
      "Some schooling, no HS diploma          331000.0  \n",
      "\n",
      "Income statistics by Region:\n",
      "                        count          mean           std     min      25%  \\\n",
      "Region-division_recode                                                       \n",
      "East North Central      667.0  50336.671664  51150.259626   200.0  18900.0   \n",
      "East South Central      228.0  46034.035088  47965.766862   960.0  18875.0   \n",
      "Middle Atlantic         552.0  72220.271739  97430.213061    30.0  26750.0   \n",
      "Mountain                371.0  54616.981132  62766.460811   400.0  21000.0   \n",
      "New England             191.0  72375.392670  66682.420722  3000.0  31100.0   \n",
      "Pacific                 655.0  71916.900763  86238.126017   230.0  25000.0   \n",
      "South Atlantic          870.0  53207.850575  54742.961690   260.0  20800.0   \n",
      "West North Central      300.0  50169.466667  48874.796629   500.0  23875.0   \n",
      "West South Central      531.0  56071.431262  61553.993778   330.0  22000.0   \n",
      "\n",
      "                            50%      75%       max  \n",
      "Region-division_recode                              \n",
      "East North Central      40000.0  65000.0  433000.0  \n",
      "East South Central      36200.0  55000.0  458000.0  \n",
      "Middle Atlantic         50000.0  83000.0  661000.0  \n",
      "Mountain                40000.0  68000.0  476000.0  \n",
      "New England             53000.0  90000.0  372000.0  \n",
      "Pacific                 48300.0  84000.0  565000.0  \n",
      "South Atlantic          40000.0  68000.0  475000.0  \n",
      "West North Central      40000.0  60250.0  498000.0  \n",
      "West South Central      39000.0  70500.0  472000.0  \n"
     ]
    }
   ],
   "source": [
    "education_income_stats = data.groupby('Education')['Income-wages'].describe()\n",
    "region_income_stats = data.groupby('Region-division_recode')['Income-wages'].describe()\n",
    "print('Income statistics by Education Level:')\n",
    "print(education_income_stats)\n",
    "print('\\nIncome statistics by Region:')\n",
    "print(region_income_stats)"
   ]
  },
  {
   "cell_type": "code",
   "execution_count": null,
   "id": "5d277c03-aba1-49f4-a5eb-9a7d4db4c749",
   "metadata": {},
   "outputs": [],
   "source": [
    "# source: from mathematic computing practical and the notebook you shared to us "
   ]
  },
  {
   "cell_type": "markdown",
   "id": "0d3f718f-54c0-45e3-9886-a7007a52249b",
   "metadata": {},
   "source": [
    "# question4"
   ]
  },
  {
   "cell_type": "markdown",
   "id": "3025e98c-d0ca-457a-a503-f0099cfb174f",
   "metadata": {},
   "source": [
    "# (a)"
   ]
  },
  {
   "cell_type": "code",
   "execution_count": null,
   "id": "17cd481e-7aad-4d3a-96b4-4d282401b596",
   "metadata": {},
   "outputs": [],
   "source": []
  },
  {
   "cell_type": "code",
   "execution_count": 35,
   "id": "0a64a811-4950-402f-b456-653ef7387d90",
   "metadata": {},
   "outputs": [],
   "source": [
    "# multiply a 5 x 3 matrix by a 3 x 2 matrix"
   ]
  },
  {
   "cell_type": "markdown",
   "id": "902c9820-8014-4ca6-807b-e8a44f17865f",
   "metadata": {},
   "source": [
    "# create a 5 x 3 matrix"
   ]
  },
  {
   "cell_type": "code",
   "execution_count": 36,
   "id": "ccf9a7db-678c-4bb8-967a-52473fc0a6a5",
   "metadata": {},
   "outputs": [
    {
     "data": {
      "text/plain": [
       "array([[4, 9, 2],\n",
       "       [2, 5, 1],\n",
       "       [5, 1, 9],\n",
       "       [3, 9, 5],\n",
       "       [4, 3, 6]], dtype=int32)"
      ]
     },
     "execution_count": 36,
     "metadata": {},
     "output_type": "execute_result"
    }
   ],
   "source": [
    "A = np.random.randint(1,10, size=(5,3))\n",
    "A"
   ]
  },
  {
   "cell_type": "markdown",
   "id": "6536190b-99cc-4ac0-8c2a-b4f6c0fb4b49",
   "metadata": {},
   "source": [
    "# create a 3 x 2 matrix"
   ]
  },
  {
   "cell_type": "code",
   "execution_count": 37,
   "id": "aeb49270-5f0e-474f-a18e-3eaeb656be3d",
   "metadata": {},
   "outputs": [
    {
     "data": {
      "text/plain": [
       "array([[2, 2],\n",
       "       [8, 6],\n",
       "       [2, 2]], dtype=int32)"
      ]
     },
     "execution_count": 37,
     "metadata": {},
     "output_type": "execute_result"
    }
   ],
   "source": [
    "B = np.random.randint(1,10, size = (3,2))# 3 is the number of rows and 2 stands for number of columns of the matrix\n",
    "B"
   ]
  },
  {
   "cell_type": "code",
   "execution_count": 38,
   "id": "30956d6b-aed0-44ac-9236-22ed72f889cc",
   "metadata": {},
   "outputs": [
    {
     "name": "stdout",
     "output_type": "stream",
     "text": [
      "[[84 66]\n",
      " [46 36]\n",
      " [36 34]\n",
      " [88 70]\n",
      " [44 38]]\n"
     ]
    }
   ],
   "source": [
    "print(np.dot(A,B)) "
   ]
  },
  {
   "cell_type": "markdown",
   "id": "1e6e66ab-2067-4199-944d-1dd0775ffd91",
   "metadata": {},
   "source": [
    "# (b)"
   ]
  },
  {
   "cell_type": "code",
   "execution_count": 39,
   "id": "45bfb3ae-36f3-4086-bb5e-d93f889676ab",
   "metadata": {},
   "outputs": [],
   "source": [
    "# Create a 3 x 3 identity matrix"
   ]
  },
  {
   "cell_type": "code",
   "execution_count": 40,
   "id": "af69df26-54d6-471b-8b9b-c07d77cde2c9",
   "metadata": {},
   "outputs": [
    {
     "data": {
      "text/plain": [
       "array([[1., 0., 0.],\n",
       "       [0., 1., 0.],\n",
       "       [0., 0., 1.]])"
      ]
     },
     "execution_count": 40,
     "metadata": {},
     "output_type": "execute_result"
    }
   ],
   "source": [
    "identity_matrix = np.eye(3)# in order to find identity matrix i have to use .eye\n",
    "identity_matrix"
   ]
  },
  {
   "cell_type": "markdown",
   "id": "a2766cbe-ce12-4ca0-8fc7-77d13dabe71e",
   "metadata": {},
   "source": [
    "# (c)"
   ]
  },
  {
   "cell_type": "code",
   "execution_count": 41,
   "id": "5d3fe002-ec51-4ef9-a1e8-bfe43d73b49c",
   "metadata": {},
   "outputs": [],
   "source": [
    "#vector with values ranging from 10 to 49"
   ]
  },
  {
   "cell_type": "code",
   "execution_count": 42,
   "id": "c0d98a59-c6f6-4846-b716-c634af2de43c",
   "metadata": {},
   "outputs": [
    {
     "name": "stdout",
     "output_type": "stream",
     "text": [
      "Vector ranging from 10 to 49:\n",
      "[10 11 12 13 14 15 16 17 18 19 20 21 22 23 24 25 26 27 28 29 30 31 32 33\n",
      " 34 35 36 37 38 39 40 41 42 43 44 45 46 47 48 49]\n"
     ]
    }
   ],
   "source": [
    "vector = np.arange(10, 50)\n",
    "print(\"Vector ranging from 10 to 49:\")\n",
    "print(vector)"
   ]
  },
  {
   "cell_type": "markdown",
   "id": "e68e1a1b-e06c-4109-99d7-b90e580b3f26",
   "metadata": {},
   "source": [
    "# (d)"
   ]
  },
  {
   "cell_type": "markdown",
   "id": "2af97f5f-9517-4306-ad66-8793daa905db",
   "metadata": {},
   "source": [
    "# create a null vector of size 10"
   ]
  },
  {
   "cell_type": "code",
   "execution_count": 43,
   "id": "3e0eea6d-db02-433c-8f44-f9a4f4a28766",
   "metadata": {},
   "outputs": [
    {
     "data": {
      "text/plain": [
       "array([0., 0., 0., 0., 0., 0., 0., 0., 0., 0.])"
      ]
     },
     "execution_count": 43,
     "metadata": {},
     "output_type": "execute_result"
    }
   ],
   "source": [
    "null_vector =np.zeros(10)\n",
    "null_vector"
   ]
  },
  {
   "cell_type": "markdown",
   "id": "8c08f170-1075-4e1c-8f09-dc3f985261fa",
   "metadata": {},
   "source": [
    "# (e)"
   ]
  },
  {
   "cell_type": "markdown",
   "id": "5b6d3871-ed53-4fcb-9c0d-22f78d2f6d1e",
   "metadata": {},
   "source": [
    "# create a 3 x 3 x 3 matrix with random values"
   ]
  },
  {
   "cell_type": "code",
   "execution_count": 44,
   "id": "10df701c-c736-45e0-b678-f8ddcd03de8d",
   "metadata": {},
   "outputs": [
    {
     "name": "stdout",
     "output_type": "stream",
     "text": [
      "3x3x3 array with random values:\n",
      "[[[0.3437496  0.02697653 0.01507321]\n",
      "  [0.94453907 0.70534611 0.8522346 ]\n",
      "  [0.86619041 0.22942132 0.82100596]]\n",
      "\n",
      " [[0.9682093  0.67328247 0.17883398]\n",
      "  [0.6215787  0.52706222 0.98185699]\n",
      "  [0.82664799 0.98203053 0.61654754]]\n",
      "\n",
      " [[0.1798829  0.72506913 0.67409118]\n",
      "  [0.74110838 0.16956298 0.12202371]\n",
      "  [0.70521628 0.51840505 0.43103783]]]\n"
     ]
    }
   ],
   "source": [
    "random_array = np.random.random((3, 3, 3))\n",
    "print(\"3x3x3 array with random values:\")\n",
    "print(random_array)"
   ]
  },
  {
   "cell_type": "markdown",
   "id": "8f781db0-64dd-47a6-a71e-764caa39639d",
   "metadata": {},
   "source": [
    "# (f)"
   ]
  },
  {
   "cell_type": "markdown",
   "id": "bdfcd1b9-7df4-4f4a-80d3-3371f539bcb1",
   "metadata": {},
   "source": [
    "# Create a 5x5 matrix with values 1,2,3,4 just below the diagonal"
   ]
  },
  {
   "cell_type": "code",
   "execution_count": 45,
   "id": "514a2b35-558e-4723-85d8-419513395983",
   "metadata": {},
   "outputs": [
    {
     "name": "stdout",
     "output_type": "stream",
     "text": [
      "5x5 matrix with values just below the diagonal:\n",
      "[[0 0 0 0 0]\n",
      " [1 0 0 0 0]\n",
      " [0 2 0 0 0]\n",
      " [0 0 3 0 0]\n",
      " [0 0 0 4 0]]\n"
     ]
    }
   ],
   "source": [
    "matrix_with_diag = np.diag(np.arange(1, 5), k=-1)\n",
    "print(\"5x5 matrix with values just below the diagonal:\")\n",
    "print(matrix_with_diag)"
   ]
  },
  {
   "cell_type": "markdown",
   "id": "10d40ba2-4681-4152-8ea8-e318a4bdb673",
   "metadata": {},
   "source": [
    "# (g)"
   ]
  },
  {
   "cell_type": "markdown",
   "id": "7b5bb983-6645-4f9f-a1f9-b6cb36338caa",
   "metadata": {},
   "source": [
    "# Normalize a 5x5 random matrix"
   ]
  },
  {
   "cell_type": "code",
   "execution_count": 46,
   "id": "1300b74c-4e10-4a1f-8845-149294923049",
   "metadata": {},
   "outputs": [
    {
     "name": "stdout",
     "output_type": "stream",
     "text": [
      "Normalized 5x5 matrix:\n",
      "[[-0.74285289 -0.76730445  0.16606228 -1.46121046  1.53416455]\n",
      " [-1.7831509   0.41536807 -1.1639467   0.31764914  1.41016382]\n",
      " [-0.20752494  1.26793756  0.42248116  0.68614208 -0.25689122]\n",
      " [-0.92786104 -0.5647701  -1.23209637  1.71290548 -1.06701441]\n",
      " [ 0.52977269  1.52141069 -0.20588114 -0.39075909  0.78720617]]\n"
     ]
    }
   ],
   "source": [
    "random_matrix = np.random.random((5, 5))\n",
    "normalized_matrix = (random_matrix - random_matrix.mean()) / random_matrix.std()\n",
    "print(\"Normalized 5x5 matrix:\")\n",
    "print(normalized_matrix)"
   ]
  },
  {
   "cell_type": "markdown",
   "id": "e205d090-dae3-402e-806d-9b49b7ad23af",
   "metadata": {},
   "source": [
    "# (h)"
   ]
  },
  {
   "cell_type": "markdown",
   "id": "43b693cf-2693-426a-b404-86d4f5acc958",
   "metadata": {},
   "source": [
    "# Dates of yesterday, today, and tomorrow"
   ]
  },
  {
   "cell_type": "code",
   "execution_count": 47,
   "id": "16f9f6f4-2f05-4446-9962-49af2a7cd637",
   "metadata": {},
   "outputs": [
    {
     "name": "stdout",
     "output_type": "stream",
     "text": [
      "yesterday: 2024-12-09\n",
      "Today: 2024-12-10\n",
      "tomorrow: 2024-12-11\n"
     ]
    }
   ],
   "source": [
    "today = datetime.today()\n",
    "yesterday =today - timedelta(days=1)\n",
    "tomorrow = today + timedelta(days=1)\n",
    "\n",
    "print(\"yesterday:\", yesterday.strftime('%Y-%m-%d'))\n",
    "print(\"Today:\", today.strftime('%Y-%m-%d'))\n",
    "print(\"tomorrow:\", tomorrow.strftime('%Y-%m-%d'))\n"
   ]
  },
  {
   "cell_type": "markdown",
   "id": "45a0a755-cb2b-4a10-9113-b8b0b7348a9b",
   "metadata": {},
   "source": [
    "# (I)"
   ]
  },
  {
   "cell_type": "markdown",
   "id": "5714d7e0-761b-4acc-95cf-9a3888b8339b",
   "metadata": {},
   "source": [
    "# Indices of non-zero elements"
   ]
  },
  {
   "cell_type": "code",
   "execution_count": 48,
   "id": "39d87b5e-0185-4a3f-b301-7d81538fbd9a",
   "metadata": {},
   "outputs": [
    {
     "data": {
      "text/plain": [
       "(array([0, 1, 4]),)"
      ]
     },
     "execution_count": 48,
     "metadata": {},
     "output_type": "execute_result"
    }
   ],
   "source": [
    "array = np.array([1,2,0,0,4,0])\n",
    "non_zero = np.nonzero(array)\n",
    "non_zero"
   ]
  },
  {
   "cell_type": "code",
   "execution_count": null,
   "id": "947a5ed0-0983-4a54-ba6c-82a533fc5290",
   "metadata": {},
   "outputs": [],
   "source": []
  }
 ],
 "metadata": {
  "kernelspec": {
   "display_name": "Python 3 (ipykernel)",
   "language": "python",
   "name": "python3"
  },
  "language_info": {
   "codemirror_mode": {
    "name": "ipython",
    "version": 3
   },
   "file_extension": ".py",
   "mimetype": "text/x-python",
   "name": "python",
   "nbconvert_exporter": "python",
   "pygments_lexer": "ipython3",
   "version": "3.12.2"
  }
 },
 "nbformat": 4,
 "nbformat_minor": 5
}
